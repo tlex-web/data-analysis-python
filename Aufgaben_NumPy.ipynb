{
 "cells": [
  {
   "cell_type": "markdown",
   "id": "aac313aa",
   "metadata": {},
   "source": [
    "# NumPy"
   ]
  },
  {
   "cell_type": "code",
   "execution_count": 2,
   "id": "9f4c9ca3",
   "metadata": {},
   "outputs": [],
   "source": [
    "import numpy as np"
   ]
  },
  {
   "cell_type": "markdown",
   "id": "8730b207",
   "metadata": {},
   "source": [
    "1. array with 8x4x4 dimensions"
   ]
  },
  {
   "cell_type": "code",
   "execution_count": 10,
   "id": "8d587ae5",
   "metadata": {
    "scrolled": false
   },
   "outputs": [],
   "source": [
    "matrix1 = np.zeros((8,4,4))"
   ]
  },
  {
   "cell_type": "markdown",
   "id": "893b3bbf",
   "metadata": {},
   "source": [
    "2. change data type to integer"
   ]
  },
  {
   "cell_type": "code",
   "execution_count": 21,
   "id": "5fcca706",
   "metadata": {},
   "outputs": [
    {
     "data": {
      "text/plain": [
       "dtype('int32')"
      ]
     },
     "execution_count": 21,
     "metadata": {},
     "output_type": "execute_result"
    }
   ],
   "source": [
    "matrix1.dtype\n",
    "matrix1 = np.zeros(shape=(8,4,4), dtype=int)\n",
    "matrix1.dtype"
   ]
  },
  {
   "cell_type": "markdown",
   "id": "1d9023c9",
   "metadata": {},
   "source": [
    "3. create an one dimensional array"
   ]
  },
  {
   "cell_type": "code",
   "execution_count": 31,
   "id": "af411c0e",
   "metadata": {},
   "outputs": [
    {
     "data": {
      "text/plain": [
       "array(['audi', 'bmw', 'vw'], dtype='<U4')"
      ]
     },
     "execution_count": 31,
     "metadata": {},
     "output_type": "execute_result"
    }
   ],
   "source": [
    "cars = ['audi', 'bmw', 'vw']\n",
    "cars_array = np.array(cars)\n",
    "cars_array"
   ]
  },
  {
   "cell_type": "markdown",
   "id": "1d95616f",
   "metadata": {},
   "source": [
    "4. create multi-dimensional array with 3 dimensions"
   ]
  },
  {
   "cell_type": "code",
   "execution_count": 29,
   "id": "cf890b8c",
   "metadata": {},
   "outputs": [
    {
     "data": {
      "text/plain": [
       "array([[[1, 2, 3, 4, 5, 6],\n",
       "        [1, 2, 3, 4, 5, 6]],\n",
       "\n",
       "       [[1, 2, 3, 4, 5, 6],\n",
       "        [1, 2, 3, 4, 5, 6]]])"
      ]
     },
     "execution_count": 29,
     "metadata": {},
     "output_type": "execute_result"
    }
   ],
   "source": [
    "grades = [[[1,2,3,4,5,6], [1,2,3,4,5,6]],[[1,2,3,4,5,6], [1,2,3,4,5,6]]]\n",
    "np.array(grades)"
   ]
  },
  {
   "cell_type": "markdown",
   "id": "8521ec42",
   "metadata": {},
   "source": [
    "5. shape + ndim of array cars"
   ]
  },
  {
   "cell_type": "code",
   "execution_count": 32,
   "id": "b241a95d",
   "metadata": {},
   "outputs": [
    {
     "data": {
      "text/plain": [
       "((3,), 1)"
      ]
     },
     "execution_count": 32,
     "metadata": {},
     "output_type": "execute_result"
    }
   ],
   "source": [
    "cars_array.shape, cars_array.ndim"
   ]
  },
  {
   "cell_type": "markdown",
   "id": "f774c1fb",
   "metadata": {},
   "source": [
    "6. one-dimensional ndarray"
   ]
  },
  {
   "cell_type": "code",
   "execution_count": 37,
   "id": "40ce0f67",
   "metadata": {},
   "outputs": [
    {
     "data": {
      "text/plain": [
       "array([-1.35685759e+82, -7.94734890e+31])"
      ]
     },
     "execution_count": 37,
     "metadata": {},
     "output_type": "execute_result"
    }
   ],
   "source": [
    "np.ndarray((2))"
   ]
  },
  {
   "cell_type": "markdown",
   "id": "f35b50dd",
   "metadata": {},
   "source": [
    "7. two-dimensional ndarray"
   ]
  },
  {
   "cell_type": "code",
   "execution_count": 38,
   "id": "2c49fe3f",
   "metadata": {},
   "outputs": [
    {
     "data": {
      "text/plain": [
       "array([[2.12199579e-314, 0.00000000e+000],\n",
       "       [2.07507571e-321, 7.19364863e-312]])"
      ]
     },
     "execution_count": 38,
     "metadata": {},
     "output_type": "execute_result"
    }
   ],
   "source": [
    "np.ndarray((2,2))"
   ]
  },
  {
   "cell_type": "markdown",
   "id": "60fdbd12",
   "metadata": {},
   "source": [
    "8. three-dimenaional ndarray"
   ]
  },
  {
   "cell_type": "code",
   "execution_count": 49,
   "id": "5c45bfd0",
   "metadata": {},
   "outputs": [
    {
     "data": {
      "text/plain": [
       "array([[[1, 2, 3],\n",
       "        [4, 5, 6],\n",
       "        [7, 8, 9]]])"
      ]
     },
     "execution_count": 49,
     "metadata": {},
     "output_type": "execute_result"
    }
   ],
   "source": [
    "np.ndarray((2,2,2))\n",
    "array_reshape = np.array([1,2,3,4,5,6,7,8,9])\n",
    "\n",
    "array_reshape.reshape((1,3,3))"
   ]
  },
  {
   "cell_type": "markdown",
   "id": "680d3a62",
   "metadata": {},
   "source": [
    "9. convert list to multi-dimensional array"
   ]
  },
  {
   "cell_type": "code",
   "execution_count": 57,
   "id": "4deacf28",
   "metadata": {},
   "outputs": [
    {
     "data": {
      "text/plain": [
       "array(['item1', 'item2', 'item3'], dtype='<U5')"
      ]
     },
     "execution_count": 57,
     "metadata": {},
     "output_type": "execute_result"
    }
   ],
   "source": [
    "list1 = ['item1', 'item2', 'item3']\n",
    "np.asarray(list1)"
   ]
  },
  {
   "cell_type": "markdown",
   "id": "e11e4dd3",
   "metadata": {},
   "source": [
    "10. generate a 2x4 array with random integers from 0 to 4"
   ]
  },
  {
   "cell_type": "code",
   "execution_count": 98,
   "id": "a292ac4e",
   "metadata": {},
   "outputs": [
    {
     "data": {
      "text/plain": [
       "array([[1, 3, 0, 3],\n",
       "       [0, 0, 2, 2]])"
      ]
     },
     "execution_count": 98,
     "metadata": {},
     "output_type": "execute_result"
    }
   ],
   "source": [
    "# array_randint = np.full((2,4), fill_value=np.random.randint(0,4), dtype=int)\n",
    "array_randint = np.random.randint(5, size=(2,4))\n",
    "array_randint"
   ]
  },
  {
   "cell_type": "markdown",
   "id": "e7d5f94d",
   "metadata": {},
   "source": [
    "11. change the array's dimensions to 4x2"
   ]
  },
  {
   "cell_type": "code",
   "execution_count": 22,
   "id": "91388ec1",
   "metadata": {},
   "outputs": [
    {
     "ename": "NameError",
     "evalue": "name 'array_randint' is not defined",
     "output_type": "error",
     "traceback": [
      "\u001B[1;31m---------------------------------------------------------------------------\u001B[0m",
      "\u001B[1;31mNameError\u001B[0m                                 Traceback (most recent call last)",
      "\u001B[1;32m<ipython-input-22-1c993e369f79>\u001B[0m in \u001B[0;36m<module>\u001B[1;34m\u001B[0m\n\u001B[1;32m----> 1\u001B[1;33m \u001B[0marray_randint\u001B[0m\u001B[1;33m.\u001B[0m\u001B[0mreshape\u001B[0m\u001B[1;33m(\u001B[0m\u001B[1;36m4\u001B[0m\u001B[1;33m,\u001B[0m\u001B[1;36m2\u001B[0m\u001B[1;33m)\u001B[0m\u001B[1;33m\u001B[0m\u001B[1;33m\u001B[0m\u001B[0m\n\u001B[0m",
      "\u001B[1;31mNameError\u001B[0m: name 'array_randint' is not defined"
     ]
    }
   ],
   "source": [
    "array_randint.reshape(4,2)"
   ]
  },
  {
   "cell_type": "markdown",
   "id": "cab3207b",
   "metadata": {},
   "source": [
    ">transpose is the preferred method"
   ]
  },
  {
   "cell_type": "code",
   "execution_count": 101,
   "id": "9d8a6832",
   "metadata": {},
   "outputs": [
    {
     "data": {
      "text/plain": [
       "array([[1, 0],\n",
       "       [3, 0],\n",
       "       [0, 2],\n",
       "       [3, 2]])"
      ]
     },
     "execution_count": 101,
     "metadata": {},
     "output_type": "execute_result"
    }
   ],
   "source": [
    "np.transpose(array_randint)"
   ]
  },
  {
   "cell_type": "markdown",
   "id": "a461bfd1",
   "metadata": {},
   "source": [
    "#### help functions\n",
    "\n",
    "<code>\n",
    "    help(np.array)\n",
    "    np.info(np.array)\n",
    "</code>"
   ]
  },
  {
   "cell_type": "markdown",
   "id": "b4d408ff",
   "metadata": {},
   "source": [
    "## NumPy arithmetic operations "
   ]
  },
  {
   "cell_type": "code",
   "execution_count": null,
   "id": "99df1c6b",
   "metadata": {},
   "outputs": [],
   "source": [
    "v1 = np.array([1,2,3])\n",
    "v2 = np.array([4,5,6])"
   ]
  },
  {
   "cell_type": "markdown",
   "id": "5cfafcc1",
   "metadata": {},
   "source": [
    "- multiplication"
   ]
  },
  {
   "cell_type": "code",
   "execution_count": null,
   "id": "8fd9ee1a",
   "metadata": {},
   "outputs": [],
   "source": [
    "v1 * v2, v1 * 2.5"
   ]
  },
  {
   "cell_type": "markdown",
   "id": "b4af623c",
   "metadata": {},
   "source": [
    "- division "
   ]
  },
  {
   "cell_type": "code",
   "execution_count": null,
   "id": "1a6ec227",
   "metadata": {},
   "outputs": [],
   "source": [
    "v1 / v2, v1 / 2"
   ]
  },
  {
   "cell_type": "markdown",
   "id": "acbfc454",
   "metadata": {},
   "source": [
    "- addition / multiplication"
   ]
  },
  {
   "cell_type": "code",
   "execution_count": null,
   "id": "b0108607",
   "metadata": {},
   "outputs": [],
   "source": [
    "print(f'Add: {v1 + v2}')\n",
    "print(f'Sub: {v1 - v2}')"
   ]
  },
  {
   "cell_type": "markdown",
   "id": "28dd6604",
   "metadata": {},
   "source": [
    "- raise to power"
   ]
  },
  {
   "cell_type": "code",
   "execution_count": null,
   "id": "4f35c791",
   "metadata": {},
   "outputs": [],
   "source": [
    "v2 ** 2"
   ]
  },
  {
   "cell_type": "markdown",
   "id": "189863b3",
   "metadata": {},
   "source": [
    "- square root"
   ]
  },
  {
   "cell_type": "code",
   "execution_count": 20,
   "id": "1d34ff2f",
   "metadata": {},
   "outputs": [
    {
     "data": {
      "text/plain": [
       "(array([2.        , 2.23606798, 2.44948974]),\n",
       " array([2.        , 2.23606798, 2.44948974]))"
      ]
     },
     "execution_count": 20,
     "metadata": {},
     "output_type": "execute_result"
    }
   ],
   "source": [
    "v2 ** 0.5, np.sqrt(v2)"
   ]
  },
  {
   "cell_type": "markdown",
   "id": "46b2a259",
   "metadata": {},
   "source": [
    "## NumPy descriptive statistics"
   ]
  },
  {
   "cell_type": "markdown",
   "id": "a64d58da",
   "metadata": {},
   "source": [
    "- sum"
   ]
  },
  {
   "cell_type": "code",
   "execution_count": 16,
   "id": "29d5c667",
   "metadata": {},
   "outputs": [
    {
     "data": {
      "text/plain": [
       "15"
      ]
     },
     "execution_count": 16,
     "metadata": {},
     "output_type": "execute_result"
    }
   ],
   "source": [
    "np.sum(v2, dtype=np.int32) # default: float64"
   ]
  },
  {
   "cell_type": "markdown",
   "id": "05e28247",
   "metadata": {},
   "source": [
    "- average"
   ]
  },
  {
   "cell_type": "code",
   "execution_count": null,
   "id": "230b2d43",
   "metadata": {},
   "outputs": [],
   "source": [
    "np.average(v2)"
   ]
  },
  {
   "cell_type": "markdown",
   "id": "b9bff995",
   "metadata": {},
   "source": [
    "- standart deviation\n",
    "\n",
    "<br>\n",
    "\n",
    "<code>\n",
    "    sqrt(mean(abs(x - x.mean())** 2))\n",
    "</code>"
   ]
  },
  {
   "cell_type": "code",
   "execution_count": null,
   "id": "1785d7d6",
   "metadata": {},
   "outputs": [],
   "source": [
    "np.std(v1)"
   ]
  },
  {
   "cell_type": "markdown",
   "id": "ddfd6b22",
   "metadata": {},
   "source": [
    "- min / max value"
   ]
  },
  {
   "cell_type": "code",
   "execution_count": null,
   "id": "116a7dba",
   "metadata": {},
   "outputs": [],
   "source": [
    "print(f'Min: {np.amin(v2)}')\n",
    "print(f'Max: {np.amax(v2)}')"
   ]
  }
 ],
 "metadata": {
  "kernelspec": {
   "display_name": "Python 3",
   "language": "python",
   "name": "python3"
  },
  "language_info": {
   "codemirror_mode": {
    "name": "ipython",
    "version": 3
   },
   "file_extension": ".py",
   "mimetype": "text/x-python",
   "name": "python",
   "nbconvert_exporter": "python",
   "pygments_lexer": "ipython3",
   "version": "3.8.5"
  }
 },
 "nbformat": 4,
 "nbformat_minor": 5
}