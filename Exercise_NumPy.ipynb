{
 "cells": [
  {
   "cell_type": "markdown",
   "id": "29ea8faf",
   "metadata": {},
   "source": [
    "# Aufgabensammlung - Data Analysis mit Python - NumPy"
   ]
  },
  {
   "cell_type": "markdown",
   "id": "7deb9dea",
   "metadata": {},
   "source": [
    "#### 1. Importieren Sie das NumPy Package unter dem Namen 'np'"
   ]
  },
  {
   "cell_type": "code",
   "execution_count": 2,
   "id": "e0317c68",
   "metadata": {},
   "outputs": [],
   "source": [
    "import numpy as np"
   ]
  },
  {
   "cell_type": "markdown",
   "id": "ef931e32",
   "metadata": {},
   "source": [
    "#### 2. Stellen Sie sicher, dass die aktuelle Version von NumPy installiert ist."
   ]
  },
  {
   "cell_type": "code",
   "execution_count": 3,
   "id": "b53c1c51",
   "metadata": {},
   "outputs": [
    {
     "data": {
      "text/plain": [
       "'1.19.5'"
      ]
     },
     "execution_count": 3,
     "metadata": {},
     "output_type": "execute_result"
    }
   ],
   "source": [
    "np.__version__ "
   ]
  },
  {
   "cell_type": "markdown",
   "id": "8615aaf9",
   "metadata": {},
   "source": [
    "#### 3. Erzeugen Sie einen Nullvektor der Größe 10."
   ]
  },
  {
   "cell_type": "code",
   "execution_count": 5,
   "id": "b3057f8c",
   "metadata": {},
   "outputs": [
    {
     "data": {
      "text/plain": [
       "array([0, 0, 0, 0, 0, 0, 0, 0, 0, 0])"
      ]
     },
     "execution_count": 5,
     "metadata": {},
     "output_type": "execute_result"
    }
   ],
   "source": [
    "np.zeros(shape=(10), dtype=np.int32)"
   ]
  },
  {
   "cell_type": "markdown",
   "id": "3d713826",
   "metadata": {},
   "source": [
    "#### 4. Erzeugen Sie einen Nullvektor der Größe 10, wobei das fünfte Element 3 ist."
   ]
  },
  {
   "cell_type": "code",
   "execution_count": 12,
   "id": "8917485e",
   "metadata": {},
   "outputs": [
    {
     "data": {
      "text/plain": [
       "array([0, 0, 0, 0, 3, 0, 0, 0, 0, 0])"
      ]
     },
     "execution_count": 12,
     "metadata": {},
     "output_type": "execute_result"
    }
   ],
   "source": [
    "a = np.zeros(shape=(10), dtype=np.int32)\n",
    "a[4] = 3\n",
    "a"
   ]
  },
  {
   "cell_type": "markdown",
   "id": "276b0677",
   "metadata": {},
   "source": [
    "#### 5. Erzeugen Sie einen Vektor, mit Werten zwischen 20 bis 50."
   ]
  },
  {
   "cell_type": "code",
   "execution_count": 8,
   "id": "e708bd26",
   "metadata": {},
   "outputs": [
    {
     "data": {
      "text/plain": [
       "array([20, 21, 22, 23, 24, 25, 26, 27, 28, 29, 30, 31, 32, 33, 34, 35, 36,\n",
       "       37, 38, 39, 40, 41, 42, 43, 44, 45, 46, 47, 48, 49, 50])"
      ]
     },
     "execution_count": 8,
     "metadata": {},
     "output_type": "execute_result"
    }
   ],
   "source": [
    "np.full(shape=(31), fill_value=range(20, 51))"
   ]
  },
  {
   "cell_type": "markdown",
   "id": "cd73a6ff",
   "metadata": {},
   "source": [
    "#### 6. Erzeugen Sie einen Reverse-Vektor (Aus dem ersten Element wird das letzte Element)"
   ]
  },
  {
   "cell_type": "code",
   "execution_count": 16,
   "id": "ea16fa53",
   "metadata": {},
   "outputs": [
    {
     "data": {
      "text/plain": [
       "array([3, 2, 1])"
      ]
     },
     "execution_count": 16,
     "metadata": {},
     "output_type": "execute_result"
    }
   ],
   "source": [
    "np.array([1,2,3])[::-1]"
   ]
  },
  {
   "cell_type": "markdown",
   "id": "e0b47b7e",
   "metadata": {},
   "source": [
    "#### 7. Erzeugen Sie eine 3x3 Matrix mit den Elementen 0 bis 8."
   ]
  },
  {
   "cell_type": "code",
   "execution_count": 17,
   "id": "d1eabb8d",
   "metadata": {},
   "outputs": [
    {
     "data": {
      "text/plain": [
       "array([[4, 5, 4],\n",
       "       [5, 4, 0],\n",
       "       [5, 2, 3]])"
      ]
     },
     "execution_count": 17,
     "metadata": {},
     "output_type": "execute_result"
    }
   ],
   "source": [
    "np.random.randint(0, 8, size=(3,3))"
   ]
  },
  {
   "cell_type": "markdown",
   "id": "9ce50ffa",
   "metadata": {},
   "source": [
    "#### 8. Finden Sie Elemente im Array, die nicht Null sind."
   ]
  },
  {
   "cell_type": "code",
   "execution_count": 22,
   "id": "414740ab",
   "metadata": {},
   "outputs": [
    {
     "data": {
      "text/plain": [
       "array([False,  True,  True,  True])"
      ]
     },
     "execution_count": 22,
     "metadata": {},
     "output_type": "execute_result"
    }
   ],
   "source": [
    "np.array([0,1,2,3]) != 0 "
   ]
  },
  {
   "cell_type": "markdown",
   "id": "31ebaaed",
   "metadata": {},
   "source": [
    "#### 9. Erstellen Sie eine Einheitsmatrix."
   ]
  },
  {
   "cell_type": "code",
   "execution_count": null,
   "id": "0815acb5",
   "metadata": {},
   "outputs": [],
   "source": []
  },
  {
   "cell_type": "markdown",
   "id": "b454372b",
   "metadata": {},
   "source": [
    "#### 10. Erstellen Sie ein 3x3x3 Array mit zufälligen Werten."
   ]
  },
  {
   "cell_type": "code",
   "execution_count": 25,
   "id": "7bf5aa30",
   "metadata": {},
   "outputs": [
    {
     "data": {
      "text/plain": [
       "array([[[0.70566123, 0.50370332, 0.50498429],\n",
       "        [0.76078294, 0.40687169, 0.1176654 ],\n",
       "        [0.81589305, 0.64015491, 0.9688105 ]],\n",
       "\n",
       "       [[0.05184976, 0.32629864, 0.41706545],\n",
       "        [0.42565236, 0.65562811, 0.13399298],\n",
       "        [0.83250187, 0.95798489, 0.83074839]],\n",
       "\n",
       "       [[0.3214113 , 0.2193832 , 0.8906812 ],\n",
       "        [0.32876219, 0.25679611, 0.55611208],\n",
       "        [0.05513673, 0.73880101, 0.14602806]]])"
      ]
     },
     "execution_count": 25,
     "metadata": {},
     "output_type": "execute_result"
    }
   ],
   "source": [
    "np.random.random(size=(3,3,3))"
   ]
  },
  {
   "cell_type": "markdown",
   "id": "7ab71663",
   "metadata": {},
   "source": [
    "#### 10. Erstellen Sie ein 10x10 Array mit zufälligen Werten. Finden Sie das Minimum und Maximum."
   ]
  },
  {
   "cell_type": "code",
   "execution_count": 27,
   "id": "e23e434e",
   "metadata": {},
   "outputs": [
    {
     "name": "stdout",
     "output_type": "stream",
     "text": [
      "Min: 0.019529303812496845\n",
      "Max: 0.9942347281050212\n"
     ]
    }
   ],
   "source": [
    "a1 = np.random.random(size=(10,10))\n",
    "print(f'Min: {np.amin(a1)}')\n",
    "print(f'Max: {np.amax(a1)}')"
   ]
  },
  {
   "cell_type": "markdown",
   "id": "58a5fabd",
   "metadata": {},
   "source": [
    "#### 11. Erstellen Sie ein Vektor der Größe 20 mit zufälligen Werten und berechnen Sie den Mittelwert."
   ]
  },
  {
   "cell_type": "code",
   "execution_count": 28,
   "id": "1618f16b",
   "metadata": {},
   "outputs": [
    {
     "data": {
      "text/plain": [
       "0.5048915720594289"
      ]
     },
     "execution_count": 28,
     "metadata": {},
     "output_type": "execute_result"
    }
   ],
   "source": [
    "np.average(np.random.random(size=20))"
   ]
  },
  {
   "cell_type": "markdown",
   "id": "5d8f963f",
   "metadata": {},
   "source": [
    "#### 12. Erstellen Sie ein Eindimensionales Array mit der Größe 15. Die Werte zwischen 5 und 10 sollen hierbei negativ sein."
   ]
  },
  {
   "cell_type": "code",
   "execution_count": 32,
   "id": "c9a73d05",
   "metadata": {},
   "outputs": [
    {
     "data": {
      "text/plain": [
       "[5]"
      ]
     },
     "execution_count": 32,
     "metadata": {},
     "output_type": "execute_result"
    }
   ],
   "source": []
  },
  {
   "cell_type": "markdown",
   "id": "fb508514",
   "metadata": {},
   "source": [
    "#### 13. Wie können zwischen zwei Arrays gemeinsame Werte gefunden werden?"
   ]
  },
  {
   "cell_type": "code",
   "execution_count": 34,
   "id": "3a1af3ba",
   "metadata": {},
   "outputs": [
    {
     "data": {
      "text/plain": [
       "False"
      ]
     },
     "execution_count": 34,
     "metadata": {},
     "output_type": "execute_result"
    }
   ],
   "source": [
    "np.array_equal(np.array([1,2,3]), np.array([0,1,3]))"
   ]
  },
  {
   "cell_type": "markdown",
   "id": "2aecabe3",
   "metadata": {},
   "source": [
    "#### 14. Ermitteln Sie das Datum von gestern, heute und morgen. Nutzen Sie hierzu NumPy Funktionen."
   ]
  },
  {
   "cell_type": "code",
   "execution_count": 35,
   "id": "a77dc771",
   "metadata": {},
   "outputs": [
    {
     "name": "stdout",
     "output_type": "stream",
     "text": [
      "nt.times_result(user=1.578125, system=0.609375, children_user=0.0, children_system=0.0, elapsed=0.0)\n"
     ]
    }
   ],
   "source": []
  },
  {
   "cell_type": "markdown",
   "id": "9429dc35",
   "metadata": {},
   "source": [
    "#### 15. Erstellen Sie ein Array mit Daten (=Plural Datum) des Monats August 2021. Verwenden Sie hierzu den Datentyp des Datumsformat."
   ]
  },
  {
   "cell_type": "code",
   "execution_count": null,
   "id": "530e7c73",
   "metadata": {},
   "outputs": [],
   "source": []
  },
  {
   "cell_type": "markdown",
   "id": "e1dbdd5c",
   "metadata": {},
   "source": [
    "#### 16. Ermitteln Sie nur den Integer-Teil einer Zahl mit Hilfe eines Random-Arrays.  Nutzen Sie hierzu 5 verschiedene Methoden zur Extraktion."
   ]
  },
  {
   "cell_type": "code",
   "execution_count": null,
   "id": "de7f8f3b",
   "metadata": {},
   "outputs": [],
   "source": []
  },
  {
   "cell_type": "markdown",
   "id": "f645cba2",
   "metadata": {},
   "source": [
    "#### 17. Wie wird ein float Array in ein integer Array konvertiert? "
   ]
  },
  {
   "cell_type": "code",
   "execution_count": null,
   "id": "df4f69fe",
   "metadata": {},
   "outputs": [],
   "source": []
  },
  {
   "cell_type": "markdown",
   "id": "72513f70",
   "metadata": {},
   "source": [
    "#### 18.  Erstellen Sie ein Array 'y' des Shapes (3,4). Das Array soll folgende Werte enthalten [2  7 12  0 3  9  3  4 4  0  1  3]"
   ]
  },
  {
   "cell_type": "code",
   "execution_count": null,
   "id": "8849cbb6",
   "metadata": {},
   "outputs": [],
   "source": []
  },
  {
   "cell_type": "markdown",
   "id": "43dd7dd2",
   "metadata": {},
   "source": [
    "#### 19.  Wie lautet das Shape des in Aufgabe 18 erstellten Arrays 'y'? Verwenden Sie hierzu eine vordefinierte Funktion."
   ]
  },
  {
   "cell_type": "code",
   "execution_count": null,
   "id": "67d407ed",
   "metadata": {},
   "outputs": [],
   "source": []
  },
  {
   "cell_type": "markdown",
   "id": "0f5c2493",
   "metadata": {},
   "source": [
    " #### 20. Wie lautet die Dimension des in Aufgabe 18 erstellten Arrays 'y'? Verwenden Sie hierzu eine vordefinierte Funktion."
   ]
  },
  {
   "cell_type": "code",
   "execution_count": null,
   "id": "41f61527",
   "metadata": {},
   "outputs": [],
   "source": []
  },
  {
   "cell_type": "markdown",
   "id": "e8d9a64a",
   "metadata": {},
   "source": [
    "#### 21.  Welche Länge hat das in Aufgabe 18 erstellte Array 'y'? Verwenden Sie hierzu eine vordefinierte Funktion."
   ]
  },
  {
   "cell_type": "code",
   "execution_count": null,
   "id": "9187e6c1",
   "metadata": {},
   "outputs": [],
   "source": []
  },
  {
   "cell_type": "markdown",
   "id": "8d7770d4",
   "metadata": {},
   "source": [
    "#### 22.  Erstellen Sie eine 4x4 Einheitsmatrix."
   ]
  },
  {
   "cell_type": "code",
   "execution_count": null,
   "id": "a49b4183",
   "metadata": {},
   "outputs": [],
   "source": []
  },
  {
   "cell_type": "markdown",
   "id": "68c83ee1",
   "metadata": {},
   "source": [
    "#### 22.  Erstellen Sie eine 4x4 Nullmatrix."
   ]
  },
  {
   "cell_type": "code",
   "execution_count": null,
   "id": "5ead9656",
   "metadata": {},
   "outputs": [],
   "source": []
  },
  {
   "cell_type": "markdown",
   "id": "6700ade9",
   "metadata": {},
   "source": [
    "#### 23.1 Erstellen Sie ein Array x mit 100 gleichverteilten Werten zwischen 0 and 2 * pi. Recherchieren Sie die hierzu benötigte Funktion."
   ]
  },
  {
   "cell_type": "code",
   "execution_count": null,
   "id": "042ead9a",
   "metadata": {},
   "outputs": [],
   "source": []
  },
  {
   "cell_type": "markdown",
   "id": "1c68f7a2",
   "metadata": {},
   "source": [
    "#### 23.2 Erstellen Sie ein Array y, welches den Cosinus von x enthält  -    y[i] = cos(x[i])    -   (Hinweis: np.lookfor('cosine'))."
   ]
  },
  {
   "cell_type": "code",
   "execution_count": null,
   "id": "794b98b1",
   "metadata": {},
   "outputs": [],
   "source": []
  },
  {
   "cell_type": "markdown",
   "id": "9d8a2f31",
   "metadata": {},
   "source": [
    "#### 23.3 Plotten Sie x gegen y. Verwenden Sie hierzu https://matplotlib.org/"
   ]
  },
  {
   "cell_type": "code",
   "execution_count": null,
   "id": "d8da640f",
   "metadata": {},
   "outputs": [],
   "source": []
  },
  {
   "cell_type": "markdown",
   "id": "16ac4a86",
   "metadata": {},
   "source": [
    "#### 24. Erstellen Sie ein Array 'y' des Shapes (3,4). Das Array soll folgende Werte enthalten [2 7 12 0 3 9 3 4 4 0 1 3]"
   ]
  },
  {
   "cell_type": "code",
   "execution_count": null,
   "id": "34c1544e",
   "metadata": {},
   "outputs": [],
   "source": []
  },
  {
   "cell_type": "markdown",
   "id": "3db0489d",
   "metadata": {},
   "source": [
    "#### 24.1 Geben Sie die erste Zeile aus."
   ]
  },
  {
   "cell_type": "code",
   "execution_count": null,
   "id": "d61c275e",
   "metadata": {},
   "outputs": [],
   "source": []
  },
  {
   "cell_type": "markdown",
   "id": "48045d0a",
   "metadata": {},
   "source": [
    "#### 24.2 Geben Sie die zweite Spalte aus."
   ]
  },
  {
   "cell_type": "code",
   "execution_count": null,
   "id": "1287116b",
   "metadata": {},
   "outputs": [],
   "source": []
  },
  {
   "cell_type": "markdown",
   "id": "88ca7426",
   "metadata": {},
   "source": [
    "#### 24.3 Geben Sie das erste Element der dritten Spalte aus."
   ]
  },
  {
   "cell_type": "code",
   "execution_count": null,
   "id": "875518d9",
   "metadata": {},
   "outputs": [],
   "source": []
  },
  {
   "cell_type": "markdown",
   "id": "4b7e1083",
   "metadata": {},
   "source": [
    "#### 24.4 Multiplizieren Sie jedes Element mit der Zahl PI."
   ]
  },
  {
   "cell_type": "code",
   "execution_count": null,
   "id": "058d9534",
   "metadata": {},
   "outputs": [],
   "source": []
  },
  {
   "cell_type": "markdown",
   "id": "6a2d763c",
   "metadata": {},
   "source": [
    "#### 24.5 Multiplizieren Sie nur jedes zweite Element mit der Zahl Pi.\n"
   ]
  },
  {
   "cell_type": "code",
   "execution_count": null,
   "id": "e080fdfc",
   "metadata": {},
   "outputs": [],
   "source": []
  },
  {
   "cell_type": "markdown",
   "id": "36c91e94",
   "metadata": {},
   "source": [
    "#### 24.6 Multiplizieren Sie jedes Element, welches größer als 5 ist mit der Zahl Pi und speichern Sie es in der Variable y_pi."
   ]
  },
  {
   "cell_type": "code",
   "execution_count": null,
   "id": "e4db3a95",
   "metadata": {},
   "outputs": [],
   "source": []
  },
  {
   "cell_type": "markdown",
   "id": "dd24c0a3",
   "metadata": {},
   "source": [
    "#### 24.7 Ersetzen Sie die Elemente der Wertigkeit 0 mit NaN. Alle anderen Elemente nehmen den Wert 1 an."
   ]
  },
  {
   "cell_type": "code",
   "execution_count": null,
   "id": "9c6e3f5f",
   "metadata": {},
   "outputs": [],
   "source": []
  },
  {
   "cell_type": "markdown",
   "id": "c7bd6e44",
   "metadata": {},
   "source": [
    "#### 24.8 Multiplizieren Sie das Array 'y' mit dem Array 'y_pi'. "
   ]
  },
  {
   "cell_type": "code",
   "execution_count": null,
   "id": "4458eed7",
   "metadata": {},
   "outputs": [],
   "source": []
  },
  {
   "cell_type": "markdown",
   "id": "bdb5b4fd",
   "metadata": {},
   "source": [
    "#### 25. Wie wird das untenstehende Verfahren 'A * 3' genannt?"
   ]
  },
  {
   "cell_type": "code",
   "execution_count": null,
   "id": "360f4376",
   "metadata": {},
   "outputs": [],
   "source": [
    "b = np.array([1, 2, 3])\n",
    "erg = b * 3\n",
    "print(erg)"
   ]
  },
  {
   "cell_type": "code",
   "execution_count": null,
   "id": "7bfcb4ab",
   "metadata": {},
   "outputs": [],
   "source": []
  },
  {
   "cell_type": "markdown",
   "id": "cb1e6fb3",
   "metadata": {},
   "source": [
    "#### 26. Multiplizieren Sie die Arrays 'b' und 'y_pi'. Was fällt Ihnen auf? Erläutern Sie."
   ]
  },
  {
   "cell_type": "code",
   "execution_count": null,
   "id": "f1177668",
   "metadata": {},
   "outputs": [],
   "source": []
  },
  {
   "cell_type": "markdown",
   "id": "b4e48dcd",
   "metadata": {},
   "source": [
    "#### 27. Wie können Sie den ValueError in Aufgabe 26 beheben? Verdeutlichen Sie sich das angewandte Verfahren in Aufgabe 25 und wenden Sie dieses so an, das die Arrays 'b' und 'y_pi' multipliziert werden können. Definieren Sie das neue Array mit 'y_pi_re_b'."
   ]
  },
  {
   "cell_type": "code",
   "execution_count": null,
   "id": "f743b252",
   "metadata": {},
   "outputs": [],
   "source": []
  },
  {
   "cell_type": "markdown",
   "id": "0fc37578",
   "metadata": {},
   "source": [
    "#### 28. Geben Sie alle Werte des 'y_pi_re_b aus, welche != 0 sind. Hierbei soll eine Matrix nur mit Wahrheitswerten erstellt werden."
   ]
  },
  {
   "cell_type": "code",
   "execution_count": null,
   "id": "e1ddd4d9",
   "metadata": {},
   "outputs": [],
   "source": []
  },
  {
   "cell_type": "markdown",
   "id": "0a700588",
   "metadata": {},
   "source": [
    "#### 29. Wie viele Werte nicht 0 ? "
   ]
  },
  {
   "cell_type": "code",
   "execution_count": null,
   "id": "c7ee72a4",
   "metadata": {},
   "outputs": [],
   "source": []
  },
  {
   "cell_type": "markdown",
   "id": "89e6f1cb",
   "metadata": {},
   "source": [
    "#### 30. Geben Sie nur die Elemente aus, bei denen ein True in der Matrix enthalten ist.  [Hinweis: np.where()]"
   ]
  },
  {
   "cell_type": "code",
   "execution_count": null,
   "id": "e6c8314d",
   "metadata": {},
   "outputs": [],
   "source": []
  }
 ],
 "metadata": {
  "kernelspec": {
   "display_name": "Python 3 (ipykernel)",
   "language": "python",
   "name": "python3"
  },
  "language_info": {
   "codemirror_mode": {
    "name": "ipython",
    "version": 3
   },
   "file_extension": ".py",
   "mimetype": "text/x-python",
   "name": "python",
   "nbconvert_exporter": "python",
   "pygments_lexer": "ipython3",
   "version": "3.8.5"
  }
 },
 "nbformat": 4,
 "nbformat_minor": 5
}
