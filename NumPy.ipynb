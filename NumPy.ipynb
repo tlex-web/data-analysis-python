{
 "cells": [
  {
   "cell_type": "markdown",
   "id": "aac313aa",
   "metadata": {},
   "source": [
    "# NumPy"
   ]
  },
  {
   "cell_type": "code",
   "execution_count": 2,
   "id": "9f4c9ca3",
   "metadata": {},
   "outputs": [],
   "source": [
    "import numpy as np"
   ]
  },
  {
   "cell_type": "markdown",
   "id": "8730b207",
   "metadata": {},
   "source": [
    "1. array with 8x4x4 dimensions"
   ]
  },
  {
   "cell_type": "code",
   "execution_count": 3,
   "id": "8d587ae5",
   "metadata": {
    "scrolled": false
   },
   "outputs": [],
   "source": [
    "matrix1 = np.zeros((8,4,4))"
   ]
  },
  {
   "cell_type": "markdown",
   "id": "893b3bbf",
   "metadata": {},
   "source": [
    "2. change data type to integer"
   ]
  },
  {
   "cell_type": "code",
   "execution_count": 4,
   "id": "5fcca706",
   "metadata": {},
   "outputs": [
    {
     "data": {
      "text/plain": [
       "dtype('int32')"
      ]
     },
     "execution_count": 4,
     "metadata": {},
     "output_type": "execute_result"
    }
   ],
   "source": [
    "matrix1.dtype\n",
    "matrix1 = np.zeros(shape=(8,4,4), dtype=np.int32)\n",
    "matrix1.dtype"
   ]
  },
  {
   "cell_type": "markdown",
   "id": "1d9023c9",
   "metadata": {},
   "source": [
    "3. create an one dimensional array"
   ]
  },
  {
   "cell_type": "code",
   "execution_count": 5,
   "id": "af411c0e",
   "metadata": {},
   "outputs": [
    {
     "data": {
      "text/plain": [
       "array(['audi', 'bmw', 'vw'], dtype='<U4')"
      ]
     },
     "execution_count": 5,
     "metadata": {},
     "output_type": "execute_result"
    }
   ],
   "source": [
    "cars = ['audi', 'bmw', 'vw']\n",
    "cars_array = np.array(cars)\n",
    "cars_array"
   ]
  },
  {
   "cell_type": "markdown",
   "id": "1d95616f",
   "metadata": {},
   "source": [
    "4. create multi-dimensional array with 3 dimensions"
   ]
  },
  {
   "cell_type": "code",
   "execution_count": 6,
   "id": "cf890b8c",
   "metadata": {},
   "outputs": [
    {
     "data": {
      "text/plain": [
       "array([[[1, 2, 3, 4, 5, 6],\n",
       "        [1, 2, 3, 4, 5, 6]],\n",
       "\n",
       "       [[1, 2, 3, 4, 5, 6],\n",
       "        [1, 2, 3, 4, 5, 6]]])"
      ]
     },
     "execution_count": 6,
     "metadata": {},
     "output_type": "execute_result"
    }
   ],
   "source": [
    "grades = [[[1,2,3,4,5,6], [1,2,3,4,5,6]],[[1,2,3,4,5,6], [1,2,3,4,5,6]]]\n",
    "np.array(grades)"
   ]
  },
  {
   "cell_type": "markdown",
   "id": "8521ec42",
   "metadata": {},
   "source": [
    "5. shape + ndim of array cars"
   ]
  },
  {
   "cell_type": "code",
   "execution_count": 7,
   "id": "b241a95d",
   "metadata": {},
   "outputs": [
    {
     "data": {
      "text/plain": [
       "((3,), 1)"
      ]
     },
     "execution_count": 7,
     "metadata": {},
     "output_type": "execute_result"
    }
   ],
   "source": [
    "cars_array.shape, cars_array.ndim"
   ]
  },
  {
   "cell_type": "markdown",
   "id": "f774c1fb",
   "metadata": {},
   "source": [
    "6. one-dimensional ndarray"
   ]
  },
  {
   "cell_type": "code",
   "execution_count": 8,
   "id": "40ce0f67",
   "metadata": {},
   "outputs": [
    {
     "data": {
      "text/plain": [
       "array([ 5.62352797e-191, -1.48398091e+253])"
      ]
     },
     "execution_count": 8,
     "metadata": {},
     "output_type": "execute_result"
    }
   ],
   "source": [
    "np.ndarray((2))"
   ]
  },
  {
   "cell_type": "markdown",
   "id": "f35b50dd",
   "metadata": {},
   "source": [
    "7. two-dimensional ndarray"
   ]
  },
  {
   "cell_type": "code",
   "execution_count": 9,
   "id": "2c49fe3f",
   "metadata": {},
   "outputs": [
    {
     "data": {
      "text/plain": [
       "array([[ 2.12199579e-314,  4.22786102e-307],\n",
       "       [ 4.09086355e-321, -2.82446473e+156]])"
      ]
     },
     "execution_count": 9,
     "metadata": {},
     "output_type": "execute_result"
    }
   ],
   "source": [
    "np.ndarray((2,2))"
   ]
  },
  {
   "cell_type": "markdown",
   "id": "60fdbd12",
   "metadata": {},
   "source": [
    "8. three-dimenaional ndarray"
   ]
  },
  {
   "cell_type": "code",
   "execution_count": 10,
   "id": "5c45bfd0",
   "metadata": {},
   "outputs": [
    {
     "data": {
      "text/plain": [
       "array([[[1, 2, 3],\n",
       "        [4, 5, 6],\n",
       "        [7, 8, 9]]])"
      ]
     },
     "execution_count": 10,
     "metadata": {},
     "output_type": "execute_result"
    }
   ],
   "source": [
    "np.ndarray((2,2,2))\n",
    "array_reshape = np.array([1,2,3,4,5,6,7,8,9])\n",
    "\n",
    "array_reshape.reshape((1,3,3))"
   ]
  },
  {
   "cell_type": "markdown",
   "id": "680d3a62",
   "metadata": {},
   "source": [
    "9. convert list to multi-dimensional array"
   ]
  },
  {
   "cell_type": "code",
   "execution_count": 11,
   "id": "4deacf28",
   "metadata": {},
   "outputs": [
    {
     "data": {
      "text/plain": [
       "array(['item1', 'item2', 'item3'], dtype='<U5')"
      ]
     },
     "execution_count": 11,
     "metadata": {},
     "output_type": "execute_result"
    }
   ],
   "source": [
    "list1 = ['item1', 'item2', 'item3']\n",
    "np.asarray(list1)"
   ]
  },
  {
   "cell_type": "markdown",
   "id": "e11e4dd3",
   "metadata": {},
   "source": [
    "10. generate a 2x4 array with random integers from 0 to 4"
   ]
  },
  {
   "cell_type": "code",
   "execution_count": 12,
   "id": "a292ac4e",
   "metadata": {},
   "outputs": [
    {
     "data": {
      "text/plain": [
       "array([[0, 4, 1, 1],\n",
       "       [0, 3, 0, 0]])"
      ]
     },
     "execution_count": 12,
     "metadata": {},
     "output_type": "execute_result"
    }
   ],
   "source": [
    "# array_randint = np.full((2,4), fill_value=np.random.randint(0,4), dtype=int)\n",
    "array_randint = np.random.randint(5, size=(2,4))\n",
    "array_randint"
   ]
  },
  {
   "cell_type": "markdown",
   "id": "e7d5f94d",
   "metadata": {},
   "source": [
    "11. change the array's dimensions to 4x2"
   ]
  },
  {
   "cell_type": "code",
   "execution_count": 13,
   "id": "91388ec1",
   "metadata": {},
   "outputs": [
    {
     "data": {
      "text/plain": [
       "array([[0, 4],\n",
       "       [1, 1],\n",
       "       [0, 3],\n",
       "       [0, 0]])"
      ]
     },
     "execution_count": 13,
     "metadata": {},
     "output_type": "execute_result"
    }
   ],
   "source": [
    "array_randint.reshape(4,2)"
   ]
  },
  {
   "cell_type": "markdown",
   "id": "cab3207b",
   "metadata": {},
   "source": [
    ">transpose is the preferred method"
   ]
  },
  {
   "cell_type": "code",
   "execution_count": 14,
   "id": "9d8a6832",
   "metadata": {},
   "outputs": [
    {
     "data": {
      "text/plain": [
       "array([[0, 0],\n",
       "       [4, 3],\n",
       "       [1, 0],\n",
       "       [1, 0]])"
      ]
     },
     "execution_count": 14,
     "metadata": {},
     "output_type": "execute_result"
    }
   ],
   "source": [
    "np.transpose(array_randint)"
   ]
  },
  {
   "cell_type": "markdown",
   "id": "a461bfd1",
   "metadata": {},
   "source": [
    "#### help functions\n",
    "\n",
    "<code>\n",
    "    help(np.array)\n",
    "    np.info(np.array)\n",
    "</code>"
   ]
  },
  {
   "cell_type": "markdown",
   "id": "b4d408ff",
   "metadata": {},
   "source": [
    "## NumPy arithmetic operations "
   ]
  },
  {
   "cell_type": "code",
   "execution_count": 15,
   "id": "99df1c6b",
   "metadata": {},
   "outputs": [],
   "source": [
    "v1 = np.array([1,2,3])\n",
    "v2 = np.array([4,5,6])"
   ]
  },
  {
   "cell_type": "markdown",
   "id": "5cfafcc1",
   "metadata": {},
   "source": [
    "- multiplication"
   ]
  },
  {
   "cell_type": "code",
   "execution_count": 16,
   "id": "8fd9ee1a",
   "metadata": {},
   "outputs": [
    {
     "data": {
      "text/plain": [
       "(array([ 4, 10, 18]), array([2.5, 5. , 7.5]))"
      ]
     },
     "execution_count": 16,
     "metadata": {},
     "output_type": "execute_result"
    }
   ],
   "source": [
    "v1 * v2, v1 * 2.5"
   ]
  },
  {
   "cell_type": "markdown",
   "id": "b4af623c",
   "metadata": {},
   "source": [
    "- division "
   ]
  },
  {
   "cell_type": "code",
   "execution_count": 17,
   "id": "1a6ec227",
   "metadata": {},
   "outputs": [
    {
     "data": {
      "text/plain": [
       "(array([0.25, 0.4 , 0.5 ]), array([0.5, 1. , 1.5]))"
      ]
     },
     "execution_count": 17,
     "metadata": {},
     "output_type": "execute_result"
    }
   ],
   "source": [
    "v1 / v2, v1 / 2"
   ]
  },
  {
   "cell_type": "markdown",
   "id": "acbfc454",
   "metadata": {},
   "source": [
    "- addition / multiplication"
   ]
  },
  {
   "cell_type": "code",
   "execution_count": 18,
   "id": "b0108607",
   "metadata": {},
   "outputs": [
    {
     "name": "stdout",
     "output_type": "stream",
     "text": [
      "Add: [5 7 9]\n",
      "Sub: [-3 -3 -3]\n"
     ]
    }
   ],
   "source": [
    "print(f'Add: {v1 + v2}')\n",
    "print(f'Sub: {v1 - v2}')"
   ]
  },
  {
   "cell_type": "markdown",
   "id": "28dd6604",
   "metadata": {},
   "source": [
    "- raise to power"
   ]
  },
  {
   "cell_type": "code",
   "execution_count": 19,
   "id": "4f35c791",
   "metadata": {},
   "outputs": [
    {
     "data": {
      "text/plain": [
       "array([16, 25, 36], dtype=int32)"
      ]
     },
     "execution_count": 19,
     "metadata": {},
     "output_type": "execute_result"
    }
   ],
   "source": [
    "v2 ** 2"
   ]
  },
  {
   "cell_type": "markdown",
   "id": "189863b3",
   "metadata": {},
   "source": [
    "- square root"
   ]
  },
  {
   "cell_type": "code",
   "execution_count": 20,
   "id": "1d34ff2f",
   "metadata": {},
   "outputs": [
    {
     "data": {
      "text/plain": [
       "(array([2.        , 2.23606798, 2.44948974]),\n",
       " array([2.        , 2.23606798, 2.44948974]))"
      ]
     },
     "execution_count": 20,
     "metadata": {},
     "output_type": "execute_result"
    }
   ],
   "source": [
    "v2 ** 0.5, np.sqrt(v2)"
   ]
  },
  {
   "cell_type": "markdown",
   "id": "46b2a259",
   "metadata": {},
   "source": [
    "## NumPy descriptive statistics"
   ]
  },
  {
   "cell_type": "markdown",
   "id": "a64d58da",
   "metadata": {},
   "source": [
    "- sum"
   ]
  },
  {
   "cell_type": "code",
   "execution_count": 21,
   "id": "29d5c667",
   "metadata": {},
   "outputs": [
    {
     "data": {
      "text/plain": [
       "15"
      ]
     },
     "execution_count": 21,
     "metadata": {},
     "output_type": "execute_result"
    }
   ],
   "source": [
    "np.sum(v2, dtype=np.int32) # default: float64"
   ]
  },
  {
   "cell_type": "markdown",
   "id": "05e28247",
   "metadata": {},
   "source": [
    "- average"
   ]
  },
  {
   "cell_type": "code",
   "execution_count": 22,
   "id": "230b2d43",
   "metadata": {},
   "outputs": [
    {
     "data": {
      "text/plain": [
       "5.0"
      ]
     },
     "execution_count": 22,
     "metadata": {},
     "output_type": "execute_result"
    }
   ],
   "source": [
    "np.average(v2)"
   ]
  },
  {
   "cell_type": "markdown",
   "id": "b9bff995",
   "metadata": {},
   "source": [
    "- standart deviation\n",
    "\n",
    "<br>\n",
    "\n",
    "<code>\n",
    "    sqrt(mean(abs(x - x.mean())** 2))\n",
    "</code>"
   ]
  },
  {
   "cell_type": "code",
   "execution_count": 23,
   "id": "1785d7d6",
   "metadata": {},
   "outputs": [
    {
     "data": {
      "text/plain": [
       "0.816496580927726"
      ]
     },
     "execution_count": 23,
     "metadata": {},
     "output_type": "execute_result"
    }
   ],
   "source": [
    "np.std(v1)"
   ]
  },
  {
   "cell_type": "markdown",
   "id": "ddfd6b22",
   "metadata": {},
   "source": [
    "- min / max value"
   ]
  },
  {
   "cell_type": "code",
   "execution_count": 24,
   "id": "116a7dba",
   "metadata": {},
   "outputs": [
    {
     "name": "stdout",
     "output_type": "stream",
     "text": [
      "Min: 4\n",
      "Max: 6\n"
     ]
    }
   ],
   "source": [
    "print(f'Min: {np.amin(v2)}')\n",
    "print(f'Max: {np.amax(v2)}')"
   ]
  }
 ],
 "metadata": {
  "kernelspec": {
   "display_name": "Python 3",
   "language": "python",
   "name": "python3"
  },
  "language_info": {
   "codemirror_mode": {
    "name": "ipython",
    "version": 3
   },
   "file_extension": ".py",
   "mimetype": "text/x-python",
   "name": "python",
   "nbconvert_exporter": "python",
   "pygments_lexer": "ipython3",
   "version": "3.8.5"
  }
 },
 "nbformat": 4,
 "nbformat_minor": 5
}
